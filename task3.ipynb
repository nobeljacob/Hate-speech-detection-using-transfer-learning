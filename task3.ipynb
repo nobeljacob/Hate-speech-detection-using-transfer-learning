{
 "cells": [
  {
   "cell_type": "code",
   "execution_count": null,
   "metadata": {},
   "outputs": [],
   "source": [
    "#TASK 3 Solution:"
   ]
  },
  {
   "cell_type": "code",
   "execution_count": null,
   "metadata": {},
   "outputs": [],
   "source": [
    "#Import necessary packages"
   ]
  },
  {
   "cell_type": "code",
   "execution_count": null,
   "metadata": {},
   "outputs": [],
   "source": [
    "import pandas as pd\n",
    "import numpy as np\n",
    "import re\n",
    "from sklearn.feature_extraction.text import TfidfVectorizer \n",
    "from sklearn.model_selection import train_test_split \n",
    "from sklearn.metrics import classification_report, confusion_matrix, accuracy_score\n",
    "from sklearn import svm"
   ]
  },
  {
   "cell_type": "code",
   "execution_count": null,
   "metadata": {},
   "outputs": [],
   "source": [
    "#Load the data"
   ]
  },
  {
   "cell_type": "code",
   "execution_count": null,
   "metadata": {},
   "outputs": [],
   "source": [
    "bengali_data = pd.read_csv(r'bengali_hatespeech.csv')\n"
   ]
  },
  {
   "cell_type": "code",
   "execution_count": null,
   "metadata": {},
   "outputs": [],
   "source": [
    "#Describing the statistics of data\n",
    "\n",
    "bengali_data.describe()"
   ]
  },
  {
   "cell_type": "code",
   "execution_count": null,
   "metadata": {},
   "outputs": [],
   "source": [
    "#Preprocessing the data to remove the emoji or emoticons\n",
    "#data['hate'].value_counts()\n"
   ]
  },
  {
   "cell_type": "code",
   "execution_count": null,
   "metadata": {},
   "outputs": [],
   "source": [
    "bengali_data['sentence'] = bengali_data['sentence'].str.replace('[^\\w\\s#@/:%.,_-]', '', flags=re.UNICODE)"
   ]
  },
  {
   "cell_type": "code",
   "execution_count": null,
   "metadata": {},
   "outputs": [],
   "source": [
    "#Displaying few data frames with columns of sentence as text and hate as class one(positive) and zero(negative)\n",
    "\n",
    "bengali_data.head()\n",
    "bengali_data.tail()"
   ]
  },
  {
   "cell_type": "code",
   "execution_count": null,
   "metadata": {},
   "outputs": [],
   "source": [
    "#Indexed based selecting method to retrieve sentence text and hate/non-hate class column of the data frame\n",
    "\n",
    "bengali_corpus_sentence_text = bengali_data.iloc[:, 0].values  \n",
    "class_hate_nonhate_speech = bengali_data.iloc[:, 1].values\n",
    " "
   ]
  },
  {
   "cell_type": "code",
   "execution_count": null,
   "metadata": {},
   "outputs": [],
   "source": [
    "#Printing dataframe coloum text sentences\n",
    "\n",
    "bengali_corpus_sentence_text"
   ]
  },
  {
   "cell_type": "code",
   "execution_count": null,
   "metadata": {},
   "outputs": [],
   "source": [
    "#printing dataframe coloumn hate/non-hate class\n",
    "\n",
    "class_hate_nonhate_speech"
   ]
  },
  {
   "cell_type": "code",
   "execution_count": null,
   "metadata": {},
   "outputs": [],
   "source": [
    "#Applying data representation technique based on term frequency and inverse term frequency concept"
   ]
  },
  {
   "cell_type": "code",
   "execution_count": null,
   "metadata": {},
   "outputs": [],
   "source": [
    "tfidfconverter = TfidfVectorizer(max_features=3000,  max_df=0.7)  \n",
    "bengali_corpus_sentence_text = tfidfconverter.fit_transform(bengali_corpus_sentence_text).toarray()\n",
    " "
   ]
  },
  {
   "cell_type": "code",
   "execution_count": null,
   "metadata": {},
   "outputs": [],
   "source": [
    "#Split the data sets as train and test data respectively"
   ]
  },
  {
   "cell_type": "code",
   "execution_count": null,
   "metadata": {},
   "outputs": [],
   "source": [
    " \n",
    "bengali_corpus_sentence_train, bengali_corpus_sentence_test, class_hate_nonhate_speech_train, class_hate_nonhate_speech_test = train_test_split(bengali_corpus_sentence_text, class_hate_nonhate_speech, test_size=0.2, random_state=0)"
   ]
  },
  {
   "cell_type": "code",
   "execution_count": null,
   "metadata": {},
   "outputs": [],
   "source": [
    "#Implementation using Support Vector Machine algorithm"
   ]
  },
  {
   "cell_type": "code",
   "execution_count": null,
   "metadata": {},
   "outputs": [],
   "source": [
    "sentiment_text_classifier = svm.SVC(kernel='linear') # Linear Kernel\n",
    "sentiment_text_classifier.fit(bengali_corpus_sentence_train, class_hate_nonhate_speech_train)\n",
    "predictions = sentiment_text_classifier.predict(bengali_corpus_sentence_test)\n"
   ]
  },
  {
   "cell_type": "code",
   "execution_count": null,
   "metadata": {},
   "outputs": [],
   "source": [
    "#Display the classification algorithm metrics and accuracy score"
   ]
  },
  {
   "cell_type": "code",
   "execution_count": null,
   "metadata": {},
   "outputs": [],
   "source": [
    "print(\"Confusion Matrix:\\n\",confusion_matrix(class_hate_nonhate_speech_test,predictions))  \n",
    "print(\"Classification Report:\\n\",classification_report(class_hate_nonhate_speech_test,predictions))  \n",
    "print(\"Accuracy Score:\\n\",accuracy_score(class_hate_nonhate_speech_test, predictions))"
   ]
  },
  {
   "cell_type": "code",
   "execution_count": null,
   "metadata": {},
   "outputs": [],
   "source": [
    " ##  Sentiment analysis for hindi data set"
   ]
  },
  {
   "cell_type": "code",
   "execution_count": null,
   "metadata": {},
   "outputs": [],
   "source": [
    "data = pd.read_table('hindi_dataset.tsv')\n",
    "data"
   ]
  },
  {
   "cell_type": "code",
   "execution_count": null,
   "metadata": {},
   "outputs": [],
   "source": [
    "data['text']= data['text'].str.lower()\n",
    "data['text'] = data['text'].str.replace('[!”#$%&’()*+,-./:;<=>?@[\\]^_`{|}~]','')\n",
    "\n",
    "file1 = open(\"stopwords.txt\", encoding=\"utf8\") \n",
    "q=file1.read()\n",
    "split1=q.split()\n",
    "\n",
    "data['text'] = data['text'].apply(lambda x: ' '.join([item for item in x.split() if item not in split1]))\n"
   ]
  },
  {
   "cell_type": "code",
   "execution_count": null,
   "metadata": {},
   "outputs": [],
   "source": [
    "data.loc[data['task_1'] == \"NOT\", 'task_1'] = 0\n",
    "data.loc[data['task_1'] == \"HOF\", 'task_1'] = 1\n"
   ]
  },
  {
   "cell_type": "code",
   "execution_count": null,
   "metadata": {},
   "outputs": [],
   "source": [
    "#Indexed based selecting method to retrieve sentence text and hate/non-hate class column of the data frame\n",
    "\n",
    "hindi_corpus_sentence_text = data.iloc[:, 1].values  \n",
    "class_hate_nonhate_speech = data.iloc[:, 2].values\n",
    "class_hate_nonhate_speech = np.asarray(class_hate_nonhate_speech).astype('int32') "
   ]
  },
  {
   "cell_type": "code",
   "execution_count": null,
   "metadata": {},
   "outputs": [],
   "source": [
    "#Applying data representation technique based on term frequency and inverse term frequency concept\n",
    "\n",
    "tfidfconverter = TfidfVectorizer(max_features=3000,  max_df=0.7)  \n",
    "hindi_corpus_sentence_text = tfidfconverter.fit_transform(hindi_corpus_sentence_text).toarray()\n",
    " \n",
    "    "
   ]
  },
  {
   "cell_type": "code",
   "execution_count": null,
   "metadata": {},
   "outputs": [],
   "source": [
    " #train test split\n",
    "hindi_corpus_sentence_train, hindi_corpus_sentence_test, class_hate_nonhate_speech_train, class_hate_nonhate_speech_test = train_test_split(hindi_corpus_sentence_text, class_hate_nonhate_speech, test_size=0.2, random_state=0)"
   ]
  },
  {
   "cell_type": "code",
   "execution_count": null,
   "metadata": {},
   "outputs": [],
   "source": [
    "#svm algm\n",
    "sentiment_text_classifier = svm.SVC(kernel='linear') # Linear Kernel\n",
    "sentiment_text_classifier.fit(hindi_corpus_sentence_train, class_hate_nonhate_speech_train)\n",
    "predictions = sentiment_text_classifier.predict(hindi_corpus_sentence_test)\n"
   ]
  },
  {
   "cell_type": "code",
   "execution_count": null,
   "metadata": {},
   "outputs": [],
   "source": [
    "print(\"Confusion Matrix:\\n\",confusion_matrix(class_hate_nonhate_speech_test,predictions))  \n",
    "print(\"Classification Report:\\n\",classification_report(class_hate_nonhate_speech_test,predictions))  \n",
    "print(\"Accuracy Score:\\n\",accuracy_score(class_hate_nonhate_speech_test, predictions))"
   ]
  }
 ],
 "metadata": {
  "kernelspec": {
   "display_name": "Python 3",
   "language": "python",
   "name": "python3"
  },
  "language_info": {
   "codemirror_mode": {
    "name": "ipython",
    "version": 3
   },
   "file_extension": ".py",
   "mimetype": "text/x-python",
   "name": "python",
   "nbconvert_exporter": "python",
   "pygments_lexer": "ipython3",
   "version": "3.7.4"
  }
 },
 "nbformat": 4,
 "nbformat_minor": 4
}
