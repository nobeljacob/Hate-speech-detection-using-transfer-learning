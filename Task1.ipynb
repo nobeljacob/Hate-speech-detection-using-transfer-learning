{
 "cells": [
  {
   "cell_type": "markdown",
   "metadata": {
    "id": "_VZXi_KGi0UR"
   },
   "source": [
    "# Task 1: Word Embeddings (10 points)\n",
    "\n",
    "This notebook will guide you through all steps necessary to train a word2vec model (Detailed description in the PDF)."
   ]
  },
  {
   "cell_type": "markdown",
   "metadata": {
    "id": "48t-II1vkuau"
   },
   "source": [
    "## Imports\n",
    "\n",
    "This code block is reserved for your imports. \n",
    "\n",
    "You are free to use the following packages: \n",
    "\n",
    "(List of packages)"
   ]
  },
  {
   "cell_type": "code",
   "execution_count": null,
   "metadata": {},
   "outputs": [],
   "source": [
    "# reference architecture https://www.geeksforgeeks.org/implement-your-own-word2vecskip-gram-model-in-python/"
   ]
  },
  {
   "cell_type": "code",
   "execution_count": null,
   "metadata": {
    "id": "4kh6nh84-AOL"
   },
   "outputs": [],
   "source": [
    "# Imports\n",
    "import pandas as pd\n",
    "import pickle\n",
    "from sklearn.preprocessing import LabelEncoder\n",
    "from sklearn.preprocessing import OneHotEncoder\n",
    "import os\n",
    "import torch\n",
    "import tensorflow as tf\n",
    "from numpy import array\n",
    "import numpy as np\n",
    "from numpy import argmax\n",
    "import torch.nn as nn\n"
   ]
  },
  {
   "cell_type": "code",
   "execution_count": null,
   "metadata": {},
   "outputs": [],
   "source": [
    "torch.cuda.is_available()\n",
    "if torch.cuda.is_available():  \n",
    "  dev = \"cuda:0\" \n",
    "else:  \n",
    "  dev = \"cpu\""
   ]
  },
  {
   "cell_type": "markdown",
   "metadata": {
    "id": "NWmk3hVllEcU"
   },
   "source": [
    "# 1.1 Get the data (0.5 points)\n",
    "\n",
    "The Hindi portion HASOC corpus from [github.io](https://hasocfire.github.io/hasoc/2019/dataset.html) is already available in the repo, at data/hindi_hatespeech.tsv . Load it into a data structure of your choice. Then, split off a small part of the corpus as a development set (~100 data points).\n",
    "\n",
    "If you are using Colab the first two lines will let you upload folders or files from your local file system."
   ]
  },
  {
   "cell_type": "code",
   "execution_count": null,
   "metadata": {
    "id": "XtI7DJ-0-AOP"
   },
   "outputs": [],
   "source": [
    "#TODO: implement!\n",
    "\n",
    "#from google.colab import files\n",
    "#uploaded = files.upload()\n",
    "\n",
    "data = pd.read_table('hindi_dataset.tsv',nrows=100)\n",
    "data\n",
    "\n",
    "#loading data from the tsv"
   ]
  },
  {
   "cell_type": "markdown",
   "metadata": {
    "id": "D-mSJ8nUlupB"
   },
   "source": [
    "## 1.2 Data preparation (0.5 + 0.5 points)\n",
    "\n",
    "* Prepare the data by removing everything that does not contain information. \n",
    "User names (starting with '@') and punctuation symbols clearly do not convey information, but we also want to get rid of so-called [stopwords](https://en.wikipedia.org/wiki/Stop_word), i. e. words that have little to no semantic content (and, but, yes, the...). Hindi stopwords can be found [here](https://github.com/stopwords-iso/stopwords-hi/blob/master/stopwords-hi.txt) Then, standardize the spelling by lowercasing all words.\n",
    "Do this for the development section of the corpus for now.\n",
    "\n",
    "* What about hashtags (starting with '#') and emojis? Should they be removed too? Justify your answer in the report, and explain how you accounted for this in your implementation."
   ]
  },
  {
   "cell_type": "code",
   "execution_count": null,
   "metadata": {
    "id": "CHcNeyKi-AOQ"
   },
   "outputs": [],
   "source": [
    "#TODO: implement!\n",
    "data['text']= data['text'].str.lower()\n",
    "data['text'] = data['text'].str.replace('[!”#$%&’()*+,-./:;<=>?@[\\]^_`{|}~]','')\n",
    "\n",
    "file1 = open(\"stopwords.txt\", encoding=\"utf8\") \n",
    "q=file1.read()\n",
    "split1=q.split()\n",
    "\n",
    "data['text'] = data['text'].apply(lambda x: ' '.join([item for item in x.split() if item not in split1]))\n",
    "\n",
    "data\n",
    "\n",
    "#remove the punctuations and stopwords"
   ]
  },
  {
   "cell_type": "markdown",
   "metadata": {
    "id": "Je09nozLmmMm"
   },
   "source": [
    "## 1.3 Build the vocabulary (0.5 + 0.5 points)\n",
    "\n",
    "The input to the first layer of word2vec is an one-hot encoding of the current word. The output od the model is then compared to a numeric class label of the words within the size of the skip-gram window. Now\n",
    "\n",
    "* Compile a list of all words in the development section of your corpus and save it in a variable ```V```."
   ]
  },
  {
   "cell_type": "code",
   "execution_count": null,
   "metadata": {
    "id": "VpoGmTKx-AOQ",
    "scrolled": false
   },
   "outputs": [],
   "source": [
    "#TODO: implement!\n",
    "# V = [w for w in hindi_tokens if not w in hindi_stop_words]\n",
    "# print(V)\n",
    "\n",
    "V = data['text'].values.tolist()\n",
    "V= [word for line in V for word in line.split()]\n",
    "\n",
    "print(V)"
   ]
  },
  {
   "cell_type": "code",
   "execution_count": null,
   "metadata": {
    "scrolled": false
   },
   "outputs": [],
   "source": [
    "freq = {} \n",
    "relative_freq={}\n",
    "p_keep={}\n",
    "for item in V: \n",
    "    if (item in freq): \n",
    "        freq[item] += 1\n",
    "    else: \n",
    "        freq[item] = 1\n",
    "\n",
    "\n",
    "for item in freq:\n",
    "    relative_freq[item]=freq[item]/len(V)\n",
    "    \n",
    "        \n",
    "        \n",
    "for x, y in relative_freq.items():\n",
    "    p_keep[x]=(np.sqrt(y/0.001) +1) * (0.001/y) \n",
    "\n",
    "\n",
    "\n",
    "print(p_keep)"
   ]
  },
  {
   "cell_type": "markdown",
   "metadata": {
    "id": "WiaVglVNoENY"
   },
   "source": [
    "* Then, write a function ```word_to_one_hot``` that returns a one-hot encoding of an arbitrary word in the vocabulary. The size of the one-hot encoding should be ```len(v)```."
   ]
  },
  {
   "cell_type": "code",
   "execution_count": null,
   "metadata": {
    "id": "yqPNw6IT-AOQ",
    "scrolled": false
   },
   "outputs": [],
   "source": [
    "def word_to_one_hot(word):\n",
    "    one_hot_vector=np.zeros((len(freq)))\n",
    "    \n",
    "    index=list(freq.keys()).index(word)\n",
    "    one_hot_vector[index]=1\n",
    "    \n",
    "    return one_hot_vector\n",
    "       \n",
    "\n",
    "\n",
    "#---test data--#\n",
    "#corresponding_one_hot_encoded=word_to_one_hot('बांग्लादेश')\n",
    "\n",
    "#print(corresponding_one_hot_encoded)"
   ]
  },
  {
   "cell_type": "code",
   "execution_count": null,
   "metadata": {},
   "outputs": [],
   "source": [
    "#to send the variable freq so that it can be accessed in task2\n",
    "\n",
    "file = open(\"hindi_freq_dictionary.txt\", \"wb\")\n",
    "pickle.dump(freq, file)\n",
    "file.close()"
   ]
  },
  {
   "cell_type": "code",
   "execution_count": null,
   "metadata": {
    "id": "Mj4sDOVMMr0b"
   },
   "outputs": [],
   "source": [
    "def sampling_prob(word):\n",
    "    return p_keep[word]\n",
    "\n",
    "\n",
    "#--test--#\n",
    "#print(sampling_prob('रखना'))\n",
    "#----"
   ]
  },
  {
   "cell_type": "markdown",
   "metadata": {
    "id": "gKD8zBlxVclh"
   },
   "source": [
    "## 1.4 Subsampling (0.5 points)\n",
    "\n",
    "The probability to keep a word in a context is given by:\n",
    "\n",
    "$P_{keep}(w_i) = \\Big(\\sqrt{\\frac{z(w_i)}{0.001}}+1\\Big) \\cdot \\frac{0.001}{z(w_i)}$\n",
    "\n",
    "Where $z(w_i)$ is the relative frequency of the word $w_i$ in the corpus. Now,\n",
    "* Calculate word frequencies\n",
    "* Define a function ```sampling_prob``` that takes a word (string) as input and returns the probabiliy to **keep** the word in a context."
   ]
  },
  {
   "cell_type": "markdown",
   "metadata": {
    "id": "kxV1P90zplxu"
   },
   "source": [
    "# 1.5 Skip-Grams (1 point)\n",
    "\n",
    "Now that you have the vocabulary and one-hot encodings at hand, you can start to do the actual work. The skip gram model requires training data of the shape ```(current_word, context)```, with ```context``` being the words before and/or after ```current_word``` within ```window_size```. \n",
    "\n",
    "* Have closer look on the original paper. If you feel to understand how skip-gram works, implement a function ```get_target_context``` that takes a sentence as input and [yield](https://docs.python.org/3.9/reference/simple_stmts.html#the-yield-statement)s a ```(current_word, context)```.\n",
    "\n",
    "* Use your ```sampling_prob``` function to drop words from contexts as you sample them. "
   ]
  },
  {
   "cell_type": "code",
   "execution_count": null,
   "metadata": {},
   "outputs": [],
   "source": [
    "# Set hyperparameters\n",
    "window_size = 5\n",
    "embedding_size = 300\n"
   ]
  },
  {
   "cell_type": "code",
   "execution_count": null,
   "metadata": {},
   "outputs": [],
   "source": [
    "def get_target_context_helper(variable_sentence,current_index):\n",
    "    #takes in the new sentence and the curresponding index\n",
    "    \n",
    "    word_list=[]\n",
    "    i=current_index\n",
    "    j=current_index\n",
    "    lower_limit=current_index-window_size\n",
    "    upper_limit=current_index+window_size\n",
    "\n",
    "    if lower_limit<0:\n",
    "        lower_limit=0\n",
    "    if upper_limit> len(variable_sentence)-1:\n",
    "        upper_limit=len(variable_sentence)-1\n",
    "\n",
    "    while(i>lower_limit):\n",
    "        word_list.append(variable_sentence[i-1])\n",
    "        i=i-1\n",
    "\n",
    "    while (j<upper_limit):\n",
    "        word_list.append(variable_sentence[j+1])\n",
    "        j=j+1\n",
    "    \n",
    "    return variable_sentence[current_index], word_list\n",
    "    #returns the currespong word and the list of words in its context\n",
    "\n",
    "def get_target_context(sentence):\n",
    "    \n",
    "    sentence=sentence.split()\n",
    "    new_sentence=[]\n",
    "    for each_word in sentence:\n",
    "        float_value=float(p_keep[each_word])\n",
    "        if np.random.random() < float_value:\n",
    "            new_sentence.append(each_word)\n",
    "    \n",
    "    p=[]\n",
    "   \n",
    "    len_new=len(new_sentence)\n",
    "    for i in range (len_new):\n",
    "        #print(get_target_context_helper(new_sentence,i)) #passes the new sentences and each index to do the window\n",
    "        p.append(get_target_context_helper(new_sentence,i))\n",
    "\n",
    "        \n",
    "    return p\n",
    "\n",
    "\n",
    "\n",
    "each_sentence=data['text']\n",
    "list_of_all_words_and_corresponding_context_words=[]\n",
    "for every_sentence in each_sentence:\n",
    "    list_of_all_words_and_corresponding_context_words.append(get_target_context(every_sentence))\n",
    "    \n",
    "\n",
    "list_of_all_words_and_corresponding_context_words = [item for sublist in list_of_all_words_and_corresponding_context_words for item in sublist]\n",
    "print(list_of_all_words_and_corresponding_context_words)\n",
    "#returns the list of all the focus and context words for the entire vocabulary"
   ]
  },
  {
   "cell_type": "markdown",
   "metadata": {
    "id": "gfEFgtkmuDjL"
   },
   "source": [
    "# 1.6 Hyperparameters (0.5 points)\n",
    "\n",
    "According to the word2vec paper, what would be a good choice for the following hyperparameters? \n",
    "\n",
    "* Embedding dimension\n",
    "* Window size\n",
    "\n",
    "Initialize them in a dictionary or as independent variables in the code block below. "
   ]
  },
  {
   "cell_type": "code",
   "execution_count": null,
   "metadata": {
    "id": "d7xSKuFJcYoD"
   },
   "outputs": [],
   "source": [
    "# More hyperparameters\n",
    "learning_rate = 0.025\n",
    "epochs = 100"
   ]
  },
  {
   "cell_type": "markdown",
   "metadata": {
    "id": "xiM2zq-YunPx"
   },
   "source": [
    "# 1.7 Pytorch Module (0.5 + 0.5 + 0.5 points)\n",
    "\n",
    "Pytorch provides a wrapper for your fancy and super-complex models: [torch.nn.Module](https://pytorch.org/docs/stable/generated/torch.nn.Module.html). The code block below contains a skeleton for such a wrapper. Now,\n",
    "\n",
    "* Initialize the two weight matrices of word2vec as fields of the class.\n",
    "\n",
    "* Override the ```forward``` method of this class. It should take a one-hot encoding as input, perform the matrix multiplications, and finally apply a log softmax on the output layer.\n",
    "\n",
    "* Initialize the model and save its weights in a variable. The Pytorch documentation will tell you how to do that."
   ]
  },
  {
   "cell_type": "code",
   "execution_count": null,
   "metadata": {
    "colab": {
     "base_uri": "https://localhost:8080/"
    },
    "id": "D9sGNytYhwxS",
    "outputId": "41645b64-e4ed-4e6a-e10f-74cb39b92230"
   },
   "outputs": [],
   "source": [
    "# Create model \n",
    "\n",
    "class Word2Vec(nn.Module):\n",
    "  def __init__(self,embedding_size,Vocabulary_size):\n",
    "    super(Word2Vec,self).__init__()\n",
    "    \n",
    "    self.l1=nn.Linear(Vocabulary_size,embedding_size)\n",
    "    self.l2=nn.Linear(embedding_size,Vocabulary_size)\n",
    "    self.softmax=nn.Softmax(dim=1)\n",
    "\n",
    "\n",
    "  def forward(self, one_hot):\n",
    "    out=self.l1(one_hot)\n",
    "    out=self.l2(out)\n",
    "    out=self.softmax(out)\n",
    "    return out\n",
    "\n",
    "\n",
    "model=Word2Vec(embedding_size,len(freq))\n",
    "\n"
   ]
  },
  {
   "cell_type": "code",
   "execution_count": null,
   "metadata": {},
   "outputs": [],
   "source": [
    "#onehot to torch transform\n",
    "\n",
    "def transform_to_torch(corresponding_one_hot_encoded):\n",
    "    corresponding_one_hot_encoded_torch = torch.from_numpy(corresponding_one_hot_encoded.astype(np.float32))\n",
    "    corresponding_one_hot_encoded_torch = corresponding_one_hot_encoded_torch.view(corresponding_one_hot_encoded_torch.shape[0],1)\n",
    "    corresponding_one_hot_encoded_torch=corresponding_one_hot_encoded_torch.t()\n",
    "    return corresponding_one_hot_encoded_torch"
   ]
  },
  {
   "cell_type": "markdown",
   "metadata": {
    "id": "XefIDMMHv5zJ"
   },
   "source": [
    "# 1.8 Loss function and optimizer (0.5 points)\n",
    "\n",
    "Initialize variables with [optimizer](https://pytorch.org/docs/stable/optim.html#module-torch.optim) and loss function. You can take what is used in the word2vec paper, but you can use alternative optimizers/loss functions if you explain your choice in the report."
   ]
  },
  {
   "cell_type": "code",
   "execution_count": null,
   "metadata": {
    "id": "V9-Ino-e29w3"
   },
   "outputs": [],
   "source": [
    "# Define optimizer and loss\n",
    "optimizer = torch.optim.SGD(model.parameters(),lr=learning_rate)\n",
    "criterion = torch.nn.NLLLoss()\n",
    "\n",
    "    "
   ]
  },
  {
   "cell_type": "markdown",
   "metadata": {
    "id": "ckTfK78Ew8wI"
   },
   "source": [
    "# 1.9 Training the model (3 points)\n",
    "\n",
    "As everything is prepared, implement a training loop that performs several passes of the data set through the model. You are free to do this as you please, but your code should:\n",
    "\n",
    "* Load the weights saved in 1.6 at the start of every execution of the code block\n",
    "* Print the accumulated loss at least after every epoch (the accumulate loss should be reset after every epoch)\n",
    "* Define a criterion for the training procedure to terminate if a certain loss value is reached. You can find the threshold by observing the loss for the development set.\n",
    "\n",
    "You can play around with the number of epochs and the learning rate."
   ]
  },
  {
   "cell_type": "code",
   "execution_count": null,
   "metadata": {
    "id": "LbMGD5L0mLDx"
   },
   "outputs": [],
   "source": [
    "# Define train procedure\n",
    "\n",
    "# load initial weights\n",
    "\n",
    "#for each focus word all the corresponding context words are fed into thr model and trained\n",
    "n_iters=100\n",
    "\n",
    "def train():\n",
    "    for epoch in range(n_iters):\n",
    "        \n",
    "        for each_word in list_of_all_words_and_corresponding_context_words:\n",
    "            focus,context_words=each_word\n",
    "            #print(\"focus is\",focus)\n",
    "            \n",
    "            focus =word_to_one_hot(focus)\n",
    "            \n",
    "            focus =transform_to_torch(focus)\n",
    "            #print(focus.shape)\n",
    "            \n",
    "            for each_context_word in context_words:\n",
    "                #print(\"contexts are\",each_context_word)\n",
    "                each_context_word=word_to_one_hot(each_context_word)\n",
    "                each_context_word =transform_to_torch(each_context_word)\n",
    "                Y_pred=model(focus)\n",
    "                #torch.max(labels, 1)[1]\n",
    "                loss=criterion(Y_pred,torch.max(each_context_word, 1)[1])\n",
    "                loss.backward()\n",
    "                optimizer.step()\n",
    "                optimizer.zero_grad()\n",
    "                \n",
    "        print(\"loss is\",loss)\n",
    "\n",
    "#train() #uncomment the train function to run for 100 epochs.\n",
    "\n",
    "print(\"Training finished\")"
   ]
  },
  {
   "cell_type": "markdown",
   "metadata": {
    "id": "BgQkaYstyj0Q"
   },
   "source": [
    "# 1.10 Train on the full dataset (0.5 points)\n",
    "\n",
    "Now, go back to 1.1 and remove the restriction on the number of sentences in your corpus. Then, reexecute code blocks 1.2, 1.3 and 1.6 (or those relevant if you created additional ones). \n",
    "\n",
    "* Then, retrain your model on the complete dataset.\n",
    "\n",
    "* Now, the input weights of the model contain the desired word embeddings! Save them together with the corresponding vocabulary items (Pytorch provides a nice [functionality](https://pytorch.org/tutorials/beginner/saving_loading_models.html) for this)."
   ]
  },
  {
   "cell_type": "code",
   "execution_count": null,
   "metadata": {
    "id": "4x8hQP_bg4_g"
   },
   "outputs": [],
   "source": [
    "#save the model as task1.pth\n",
    "file_name = F\"task1.pth\"\n",
    "torch.save(model.state_dict(), file_name)\n",
    "\n",
    "#for implementation representation the data was run on 100 rows. The code for the entire data setwas run in collab and saved\n",
    "#task1.pth"
   ]
  },
  {
   "cell_type": "code",
   "execution_count": null,
   "metadata": {},
   "outputs": [],
   "source": []
  }
 ],
 "metadata": {
  "accelerator": "GPU",
  "colab": {
   "collapsed_sections": [],
   "name": "NNTI_final_project_task_1.ipynb",
   "provenance": []
  },
  "kernelspec": {
   "display_name": "Python 3",
   "language": "python",
   "name": "python3"
  },
  "language_info": {
   "codemirror_mode": {
    "name": "ipython",
    "version": 3
   },
   "file_extension": ".py",
   "mimetype": "text/x-python",
   "name": "python",
   "nbconvert_exporter": "python",
   "pygments_lexer": "ipython3",
   "version": "3.7.4"
  }
 },
 "nbformat": 4,
 "nbformat_minor": 1
}
